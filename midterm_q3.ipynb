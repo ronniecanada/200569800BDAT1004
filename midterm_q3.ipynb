{
 "cells": [
  {
   "cell_type": "code",
   "execution_count": 6,
   "id": "61e9c0cd-5583-47af-bed8-4e4173375b61",
   "metadata": {},
   "outputs": [
    {
     "name": "stdout",
     "output_type": "stream",
     "text": [
      "*\n",
      "**\n",
      " *\n",
      "****\n",
      "  *\n",
      "  **\n",
      "   *\n"
     ]
    }
   ],
   "source": [
    "def tough(i, n):\n",
    "    if(n > 0):\n",
    "        # Recursively create the left branch of the pattern\n",
    "        tough(i, n//2)\n",
    "        \n",
    "        # Print a line with space for indent (i) and asterisks for the branch or trunk (n)\n",
    "        print(\" \" * i + \"*\" * n)\n",
    "        \n",
    "        # Recursively create the right branch of the pattern\n",
    "        tough(i + n//2, n//2)\n",
    "\n",
    "# Initial call to the 'tough' function to start the pattern generation\n",
    "tough(0, 4)\n"
   ]
  },
  {
   "cell_type": "code",
   "execution_count": null,
   "id": "845561c8-4b57-4e8b-b21d-4b567c9811ff",
   "metadata": {},
   "outputs": [],
   "source": []
  }
 ],
 "metadata": {
  "kernelspec": {
   "display_name": "Python 3 (ipykernel)",
   "language": "python",
   "name": "python3"
  },
  "language_info": {
   "codemirror_mode": {
    "name": "ipython",
    "version": 3
   },
   "file_extension": ".py",
   "mimetype": "text/x-python",
   "name": "python",
   "nbconvert_exporter": "python",
   "pygments_lexer": "ipython3",
   "version": "3.11.5"
  }
 },
 "nbformat": 4,
 "nbformat_minor": 5
}

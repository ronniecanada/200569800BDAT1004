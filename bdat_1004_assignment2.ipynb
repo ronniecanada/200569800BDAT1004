{
 "cells": [
  {
   "cell_type": "code",
   "execution_count": null,
   "id": "57957ee5-8725-49df-bb41-912a4cc4812f",
   "metadata": {},
   "outputs": [],
   "source": [
    "##Question 1 Consider the following Python module: a = 0 def b(): global a\n",
    "\n",
    "a = c(a) def c(a): return a + 2 After importing the module into the interpreter, you execute:\n",
    "\n",
    "b() b() b() a What value is displayed when the last expression (a) is evaluated? Explain your answer by indicating what happens in every executed statement ?.\n",
    "\n",
    "Answer : 6 A is globally declared, and initially set to 2 by variable B. Subsequently, B increments A in increments of 2 (2, 4, 6), and then the value of A is displayed."
   ]
  },
  {
   "cell_type": "code",
   "execution_count": 1,
   "id": "29e105ce-9466-4228-878e-5afaa1c70202",
   "metadata": {},
   "outputs": [],
   "source": [
    "##question 2\n",
    "def fileLength(filename):\n",
    "    try:\n",
    "        infile = open(filename, 'r')  # Try to open the file in read ('r') mode.\n",
    "        content = infile.read()        # Read the file's content.\n",
    "        length = len(content)          # Get the length (number of characters) of the content.\n",
    "        infile.close()                # Close the file.\n",
    "        return length                # Return the length of the file.\n",
    "    except FileNotFoundError:\n",
    "        return f\"File {filename} not found\"  # If the file is not found, return a friendly error message.\n"
   ]
  },
  {
   "cell_type": "code",
   "execution_count": 2,
   "id": "ace2927e-8e10-4374-b304-c55dc9ade70c",
   "metadata": {},
   "outputs": [
    {
     "name": "stdout",
     "output_type": "stream",
     "text": [
      "File midterm.py not found\n"
     ]
    }
   ],
   "source": [
    "result = fileLength('midterm.py')\n",
    "if isinstance(result, int):\n",
    "    print(result)\n",
    "else:\n",
    "    print(result)"
   ]
  },
  {
   "cell_type": "code",
   "execution_count": 3,
   "id": "32c982b2-69e8-4f37-970d-2be7593be359",
   "metadata": {},
   "outputs": [
    {
     "name": "stdout",
     "output_type": "stream",
     "text": [
      "['doll', 'firetruck', 'kitten']\n",
      "I am a Kangaroo located at coordinates (0,0)\n",
      "['doll', 'firetruck', 'kitten']\n",
      "I am a Kangaroo located at coordinates (3,0)\n"
     ]
    }
   ],
   "source": [
    "##question 3\n",
    "### First, we define a class called Marsupial\n",
    "class Marsupial:\n",
    "    def __init__(self):\n",
    "        # This is the constructor method for Marsupial. It initializes an empty pouch list.\n",
    "        self.pouch = []\n",
    "\n",
    "    def put_in_pouch(self, item):\n",
    "        # This method allows you to put an item into the pouch.\n",
    "        self.pouch.append(item)\n",
    "\n",
    "    def pouch_contents(self):\n",
    "        # This method returns the list of items in the pouch.\n",
    "        return self.pouch\n",
    "\n",
    "# Now, we create a class called Kangaroo as a subclass of Marsupial\n",
    "class Kangaroo(Marsupial):\n",
    "    def __init__(self, x, y):\n",
    "        # The constructor for Kangaroo extends the constructor of Marsupial by also taking coordinates (x, y).\n",
    "        super().__init__()  # Call the constructor of the parent class.\n",
    "        self.x = x  # Set the x-coordinate.\n",
    "        self.y = y  # Set the y-coordinate\n",
    "\n",
    "    def jump(self, dx, dy):\n",
    "        # This method allows the Kangaroo to jump by dx units along the x-axis and dy units along the y-axis.\n",
    "        self.x += dx\n",
    "        self.y += dy\n",
    "\n",
    "    def __str__(self):\n",
    "        # This special method overloads the __str__ operator to provide a custom string representation.\n",
    "        return f\"I am a Kangaroo located at coordinates ({self.x},{self.y})\"\n",
    "\n",
    "# Now, let's use the classes to demonstrate their functionality\n",
    "\n",
    "# Create a Marsupial object and put items in its pouch\n",
    "m = Marsupial()\n",
    "m.put_in_pouch('doll')\n",
    "m.put_in_pouch('firetruck')\n",
    "m.put_in_pouch('kitten')\n",
    "print(m.pouch_contents())  # This will print the items in the pouch\n",
    "\n",
    "# Create a Kangaroo object with coordinates (0, 0)\n",
    "k = Kangaroo(0, 0)\n",
    "print(k)  # This will print information about the Kangaroo's location\n",
    "\n",
    "# Put items in the Kangaroo's pouch\n",
    "k.put_in_pouch('doll')\n",
    "k.put_in_pouch('firetruck')\n",
    "k.put_in_pouch('kitten')\n",
    "print(k.pouch_contents())  # This will print the items in the Kangaroo's pouch\n",
    "\n",
    "# Make the Kangaroo jump a few times and print its updated location\n",
    "k.jump(1, 0)\n",
    "k.jump(1, 0)\n",
    "k.jump(1, 0)\n",
    "print(k)  # This will print the Kangaroo's updated location\n"
   ]
  },
  {
   "cell_type": "code",
   "execution_count": 5,
   "id": "faf1d59e-7104-4cae-a37d-386724fb9911",
   "metadata": {},
   "outputs": [],
   "source": [
    "##question 4\n",
    "def collatz(x):\n",
    "    # Base case: If x is 1, print it and return.\n",
    "    if x == 1:\n",
    "        print(1)\n",
    "        return\n",
    "    # Print the current value of x.\n",
    "    print(x)\n",
    "    # Recursive case: Check if x is even or odd and apply the Collatz rule accordingly.\n",
    "    if x % 2 == 0:\n",
    "        collatz(x // 2)  # If x is even, recursively call collatz with x divided by 2.\n",
    "    else:\n",
    "        collatz(3 * x + 1)  # If x is odd, recursively call collatz with 3x + 1.\n",
    "\n",
    "\n"
   ]
  },
  {
   "cell_type": "code",
   "execution_count": 6,
   "id": "16c826ae-51d2-4c8a-924b-e716120aeb14",
   "metadata": {},
   "outputs": [
    {
     "name": "stdout",
     "output_type": "stream",
     "text": [
      "1\n",
      "10\n",
      "5\n",
      "16\n",
      "8\n",
      "4\n",
      "2\n",
      "1\n"
     ]
    }
   ],
   "source": [
    "# Example:\n",
    "collatz(1)\n",
    "collatz(10)"
   ]
  },
  {
   "cell_type": "code",
   "execution_count": 7,
   "id": "7d4713c7-1f4d-41bb-b51c-bd3eda539424",
   "metadata": {},
   "outputs": [
    {
     "name": "stdout",
     "output_type": "stream",
     "text": [
      "0\n",
      "1\n",
      "11\n",
      "1001"
     ]
    }
   ],
   "source": [
    "##question 5\n",
    "def binary(n):\n",
    "    if n > 1:\n",
    "        binary(n // 2)  # Recursively call binary with n integer-divided by 2.\n",
    "    print(n % 2, end='')  # Print the remainder when n is divided by 2 without a newline.\n",
    "\n",
    "# Example usages:\n",
    "binary(0)\n",
    "print()  # Print a newline for clarity\n",
    "binary(1)\n",
    "print()\n",
    "binary(3)\n",
    "print()\n",
    "binary(9)\n"
   ]
  },
  {
   "cell_type": "code",
   "execution_count": 10,
   "id": "eb58a678-4b49-4222-965c-23061ba6c6d2",
   "metadata": {},
   "outputs": [
    {
     "name": "stdout",
     "output_type": "stream",
     "text": [
      "W3C Mission\n",
      "  Principles\n"
     ]
    }
   ],
   "source": [
    "##question 6\n",
    "from html.parser import HTMLParser\n",
    "\n",
    "class HeadingParser(HTMLParser):\n",
    "    def __init__(self):\n",
    "        super().__init__()\n",
    "        self.in_heading = False\n",
    "        self.heading_level = 0\n",
    "\n",
    "    def handle_starttag(self, tag, attrs):\n",
    "        if tag.startswith('h') and tag[1:].isdigit():\n",
    "            # Check if the tag is an h1, h2, etc.\n",
    "            self.in_heading = True\n",
    "            self.heading_level = int(tag[1])\n",
    "\n",
    "    def handle_data(self, data):\n",
    "        if self.in_heading:\n",
    "            # Print the heading with proper indentation\n",
    "            print(\"  \" * (self.heading_level - 1) + data)\n",
    "\n",
    "    def handle_endtag(self, tag):\n",
    "        if self.in_heading and tag.startswith('h') and tag[1:].isdigit():\n",
    "            # Reset the heading status when the heading tag ends\n",
    "            self.in_heading = False\n",
    "\n",
    "# Example usage with the corrected file path\n",
    "infile = open('C:/Users/thera/Downloads/w3c.txt', 'r')  # Use forward slashes or double backslashes\n",
    "content = infile.read()\n",
    "infile.close()\n",
    "\n",
    "hp = HeadingParser()\n",
    "hp.feed(content)\n"
   ]
  },
  {
   "cell_type": "code",
   "execution_count": 13,
   "id": "42dd1456-4d81-42e0-a7ae-30a70b655e96",
   "metadata": {},
   "outputs": [],
   "source": [
    "import requests\n",
    "from bs4 import BeautifulSoup\n",
    "\n",
    "def webdir(url, depth, indent):\n",
    "    if depth < 0:\n",
    "        return\n",
    "\n",
    "    # Make an HTTP GET request to the URL\n",
    "    response = requests.get(url)\n",
    "    if response.status_code == 200:\n",
    "        # Parse the HTML content of the page\n",
    "        soup = BeautifulSoup(response.text, 'html.parser')\n",
    "\n",
    "        # Print the current URL with proper indentation\n",
    "        print(' ' * indent + url)\n",
    "\n",
    "        if depth > 0:\n",
    "            # Find all anchor tags in the page\n",
    "            links = soup.find_all('a')\n",
    "\n",
    "            for link in links:\n",
    "                href = link.get('href')\n",
    "\n",
    "                if href and href.startswith('http'):  # Check if it's a valid URL\n",
    "                    webdir(href, depth - 1, indent + 1)\n",
    "\n",
    "# Example usage:\n",
    "webdir('http://reed.cs.depaul.edu/lperkovic/csc242/test1.html', 2, 0)\n"
   ]
  },
  {
   "cell_type": "code",
   "execution_count": 15,
   "id": "35de0700-105c-4742-9646-8d01e1b54349",
   "metadata": {},
   "outputs": [
    {
     "name": "stderr",
     "output_type": "stream",
     "text": [
      "UsageError: Cell magic `%%sql` not found.\n"
     ]
    }
   ],
   "source": [
    "%%sql\n",
    "-- a) All the temperature data\n",
    "SELECT Temperature FROM table_name;\n",
    "\n",
    "\n",
    "-- b) All the cities, but without repetition\n",
    "SELECT DISTINCT City FROM table_name;\n",
    "\n",
    "\n",
    "-- c) All the records for India\n",
    "SELECT * FROM table WHERE Country = 'India';\n",
    "\n",
    "\n",
    "-- d) All the Fall records\n",
    "SELECT * FROM table WHERE Season = 'Fall';\n",
    "\n",
    "\n",
    "-- e) The city, country, and season for which the average rainfall is between 200 and 400 millimeters\n",
    "SELECT City, Country, Season\n",
    "FROM table\n",
    "GROUP BY City, Country, Season\n",
    "HAVING AVG(Rainfall) BETWEEN 200 AND 400;\n",
    "\n",
    "\n",
    "-- f) The city and country for which the average Fall temperature is above 20 degrees, in increasing temperature order\n",
    "SELECT City, Country\n",
    "FROM table\n",
    "WHERE Season = 'Fall'\n",
    "GROUP BY City, Country\n",
    "HAVING AVG(Temperature) > 20\n",
    "ORDER BY AVG(Temperature) ASC;\n",
    "\n",
    "\n",
    "-- g) The total annual rainfall for Cairo\n",
    "SELECT City, SUM(Rainfall) AS Total_Rainfall\n",
    "FROM table\n",
    "WHERE City = 'Cairo'\n",
    "GROUP BY City;\n",
    "\n",
    "\n",
    "-- h) The total rainfall for each season\n",
    "SELECT Season, SUM(Rainfall) AS Total_Rainfall\n",
    "FROM table\n",
    "GROUP BY Season;\n"
   ]
  },
  {
   "cell_type": "code",
   "execution_count": 17,
   "id": "558144d4-d11d-49df-bb9f-701724944ddd",
   "metadata": {},
   "outputs": [
    {
     "name": "stdout",
     "output_type": "stream",
     "text": [
      "a) Uppercase: ['THE', 'QUICK', 'BROWN', 'FOX', 'JUMPS', 'OVER', 'THE', 'LAZY', 'DOG']\n",
      "b) Lowercase: ['the', 'quick', 'brown', 'fox', 'jumps', 'over', 'the', 'lazy', 'dog']\n",
      "c) Word lengths: [3, 5, 5, 3, 5, 4, 3, 4, 3]\n",
      "d) Word info: [['THE', 'the', 3], ['QUICK', 'quick', 5], ['BROWN', 'brown', 5], ['FOX', 'fox', 3], ['JUMPS', 'jumps', 5], ['OVER', 'over', 4], ['THE', 'the', 3], ['LAZY', 'lazy', 4], ['DOG', 'dog', 3]]\n",
      "e) Words with 4 or more characters: ['quick', 'brown', 'jumps', 'over', 'lazy']\n"
     ]
    }
   ],
   "source": [
    "words = ['The', 'quick', 'brown', 'fox', 'jumps', 'over', 'the', 'lazy', 'dog']\n",
    "\n",
    "# a) Uppercase\n",
    "uppercase_words = [word.upper() for word in words]\n",
    "\n",
    "# b) Lowercase\n",
    "lowercase_words = [word.lower() for word in words]\n",
    "\n",
    "# c) Word lengths\n",
    "word_lengths = [len(word) for word in words]\n",
    "\n",
    "# d) Word info\n",
    "word_info = [[word.upper(), word.lower(), len(word)] for word in words]\n",
    "\n",
    "# e) Words with 4 or more characters\n",
    "long_words = [word for word in words if len(word) >= 4]\n",
    "\n",
    "print(\"a) Uppercase:\", uppercase_words)\n",
    "print(\"b) Lowercase:\", lowercase_words)\n",
    "print(\"c) Word lengths:\", word_lengths)\n",
    "print(\"d) Word info:\", word_info)\n",
    "print(\"e) Words with 4 or more characters:\", long_words)\n"
   ]
  },
  {
   "cell_type": "code",
   "execution_count": null,
   "id": "5414e7c9-fcf5-4f13-a5f7-e62b2711af22",
   "metadata": {},
   "outputs": [],
   "source": []
  }
 ],
 "metadata": {
  "kernelspec": {
   "display_name": "Python 3 (ipykernel)",
   "language": "python",
   "name": "python3"
  },
  "language_info": {
   "codemirror_mode": {
    "name": "ipython",
    "version": 3
   },
   "file_extension": ".py",
   "mimetype": "text/x-python",
   "name": "python",
   "nbconvert_exporter": "python",
   "pygments_lexer": "ipython3",
   "version": "3.11.5"
  }
 },
 "nbformat": 4,
 "nbformat_minor": 5
}

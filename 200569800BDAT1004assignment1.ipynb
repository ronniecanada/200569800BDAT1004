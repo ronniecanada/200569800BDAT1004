{
 "cells": [
  {
   "cell_type": "code",
   "execution_count": 1,
   "id": "8ab0b261-7a80-4b42-b9f7-aed586d11b7f",
   "metadata": {},
   "outputs": [
    {
     "name": "stdout",
     "output_type": "stream",
     "text": [
      "Data type of var1: <class 'int'>\n",
      "Data type of var2: <class 'float'>\n",
      "Data type of var3: <class 'bool'>\n",
      "Data type of var4: <class 'str'>\n",
      "Data type of var5: <class 'int'>\n",
      "Data type of var6: <class 'str'>\n",
      "Data type of var7: <class 'str'>\n",
      "Data type of var8: <class 'float'>\n",
      "Data type of var9: <class 'int'>\n",
      "Data type of var10: <class 'set'>\n",
      "Data type of var11: <class 'bool'>\n",
      "Data type of var12: <class 'float'>\n"
     ]
    }
   ],
   "source": [
    "#question1\n",
    "var1 = 5\n",
    "print(f\"Data type of var1: {type(var1)}\")\n",
    "\n",
    "# Float\n",
    "var2 = 5.0\n",
    "print(f\"Data type of var2: {type(var2)}\")\n",
    "\n",
    "# Boolean\n",
    "var3 = 5 > 1\n",
    "print(f\"Data type of var3: {type(var3)}\")\n",
    "\n",
    "# String\n",
    "var4 = '5'\n",
    "print(f\"Data type of var4: {type(var4)}\")\n",
    "\n",
    "# Integer (result of an arithmetic operation)\n",
    "var5 = 5 * 2\n",
    "print(f\"Data type of var5: {type(var5)}\")\n",
    "\n",
    "# String (result of string repetition)\n",
    "var6 = '5' * 2\n",
    "print(f\"Data type of var6: {type(var6)}\")\n",
    "\n",
    "# String (result of string concatenation)\n",
    "var7 = '5' + '2'\n",
    "print(f\"Data type of var7: {type(var7)}\")\n",
    "\n",
    "# Float (result of a division operation)\n",
    "var8 = 5 / 2\n",
    "print(f\"Data type of var8: {type(var8)}\")\n",
    "\n",
    "# Integer (result of a modulo operation)\n",
    "var9 = 5 % 2\n",
    "print(f\"Data type of var9: {type(var9)}\")\n",
    "\n",
    "# Set\n",
    "var10 = {5, 2, 1}\n",
    "print(f\"Data type of var10: {type(var10)}\")\n",
    "\n",
    "# Boolean (result of a comparison)\n",
    "var11 = 5 == 3\n",
    "print(f\"Data type of var11: {type(var11)}\")\n",
    "\n",
    "# Mathematical constant Pi (requires importing math module)\n",
    "import math\n",
    "var12 = math.pi\n",
    "print(f\"Data type of var12: {type(var12)}\")\n"
   ]
  },
  {
   "cell_type": "code",
   "execution_count": 2,
   "id": "cdbf53fe-9377-4011-bac3-9a0347d7cd0f",
   "metadata": {},
   "outputs": [
    {
     "name": "stdout",
     "output_type": "stream",
     "text": [
      "The word 'Supercalifragilisticexpialidocious' has 34 letters.\n",
      "'Supercalifragilisticexpialidocious' contains the substring 'ice'.\n",
      "The longest word among the given words is: Supercalifragilisticexpialidocious\n",
      "The first composer in the dictionary is: Bartok\n",
      "The last composer in the dictionary is: Buxtehude\n"
     ]
    }
   ],
   "source": [
    "# Question2\n",
    "word_a = 'Supercalifragilisticexpialidocious'\n",
    "num_letters_a = len(word_a)\n",
    "print(\"The word 'Supercalifragilisticexpialidocious' has\", num_letters_a, \"letters.\")\n",
    "\n",
    "# Question (b): Check if a word contains a specific substring\n",
    "contains_ice = 'ice' in word_a\n",
    "if contains_ice:\n",
    "    print(\"'Supercalifragilisticexpialidocious' contains the substring 'ice'.\")\n",
    "else:\n",
    "    print(\"'Supercalifragilisticexpialidocious' does not contain the substring 'ice'.\")\n",
    "\n",
    "# Question (c): Find the longest word among a list of words\n",
    "word_b1 = 'Honorificabilitudinitatibus'\n",
    "word_b2 = 'Bababadalgharaghtakamminarronnkonn'\n",
    "longest_word = max(word_a, word_b1, word_b2, key=len)\n",
    "print(\"The longest word among the given words is:\", longest_word)\n",
    "\n",
    "# Question (d): Find the first and last composer in a list\n",
    "composers = ['Berlioz', 'Borodin', 'Brian', 'Bartok', 'Bellini', 'Buxtehude', 'Bernstein']\n",
    "composers.sort()  # Sort the list alphabetically\n",
    "first_composer = composers[0]\n",
    "last_composer = composers[-1]\n",
    "print(\"The first composer in the dictionary is:\", first_composer)\n",
    "print(\"The last composer in the dictionary is:\", last_composer)\n"
   ]
  },
  {
   "cell_type": "code",
   "execution_count": 3,
   "id": "056e97a6-e71f-4370-b1f0-6e5245b8661b",
   "metadata": {},
   "outputs": [
    {
     "name": "stdout",
     "output_type": "stream",
     "text": [
      "1.7320508075688772\n"
     ]
    }
   ],
   "source": [
    "#question 3\n",
    "import math\n",
    "\n",
    "def triangleArea(a, b, c):\n",
    "    # Calculate the semi-perimeter (s)\n",
    "    s = (a + b + c) / 2\n",
    "\n",
    "    # Calculate the area using Heron's formula\n",
    "    area = math.sqrt(s * (s - a) * (s - b) * (s - c))\n",
    "\n",
    "    return area\n",
    "\n",
    "# Test the function\n",
    "result = triangleArea(2, 2, 2)\n",
    "print(result)\n"
   ]
  },
  {
   "cell_type": "code",
   "execution_count": null,
   "id": "edbd7d84-03e2-4af7-b823-d36815a7f899",
   "metadata": {},
   "outputs": [
    {
     "name": "stdin",
     "output_type": "stream",
     "text": [
      "Input the number of elements to be stored in the array:  10\n"
     ]
    },
    {
     "name": "stdout",
     "output_type": "stream",
     "text": [
      "Input 10 elements in the array:\n"
     ]
    }
   ],
   "source": [
    "#Q4\n",
    "n = int(input(\"Input the number of elements to be stored in the array: \"))\n",
    "\n",
    "even_numbers = []\n",
    "odd_numbers = []\n",
    "\n",
    "print(f\"Input {n} elements in the array:\")\n",
    "for i in range(n):\n",
    "    element = int(input(f\"element - {i} : \"))\n",
    "    \n",
    "   \n",
    "    if element % 2 == 0:\n",
    "        even_numbers.append(element)\n",
    "    else:\n",
    "        odd_numbers.append(element)\n",
    "\n",
    "# Display the even and odd numbers\n",
    "print(\"The Even elements are:\")\n",
    "print(\" \".join(map(str, even_numbers)))\n",
    "\n",
    "print(\"The Odd elements are:\")\n",
    "print(\" \".join(map(str, odd_numbers)))\n"
   ]
  },
  {
   "cell_type": "code",
   "execution_count": 10,
   "id": "2e918535-6aab-4e84-8343-dda98cd2798e",
   "metadata": {},
   "outputs": [
    {
     "name": "stdout",
     "output_type": "stream",
     "text": [
      "True\n",
      "False\n",
      "The point (1, 1) does not lie in both rectangles.\n"
     ]
    }
   ],
   "source": [
    "#5a. Write a function inside(x,y,x1,y1,x2,y2) that returns True or False\n",
    "# depending on whether the point (x,y) lies in the rectangle with lower left\n",
    "# corner (x1,y1) and upper right corner (x2,y2).\n",
    "# >>> inside(1,1,0,0,2,3)\n",
    "# True\n",
    "# >>> inside(-1,-1,0,0,2,3)\n",
    "# False\n",
    "\n",
    "\n",
    "def inside(x, y, x1, y1, x2, y2):\n",
    "   \n",
    "    return x1 <= x <= x2 and y1 <= y <= y2\n",
    "\n",
    "# Test the inside function\n",
    "result1 =  inside(1,1,0,0,2,3)\n",
    "print(result1)\n",
    "\n",
    "result2 = inside(-1,-1,0,0,2,3)\n",
    "print(result2)\n",
    "\n",
    "\n",
    "# Use function inside() from part a. to write an expression that tests whether\n",
    "# the point (1,1) lies in both of the following rectangles: one with lower left\n",
    "# corner (0.3, 0.5) and upper right corner (1.1, 0.7) and the other with lower\n",
    "# left corner (0.5, 0.2) and upper right corner (1.1, 2). \n",
    "# Define the inside function (from part a)\n",
    "\n",
    "\n",
    "\n",
    "rectangle1 = inside(1, 1, 0.3, 0.5, 1.1, 0.7)\n",
    "\n",
    "\n",
    "rectangle2 = inside(1, 1, 0.5, 0.2, 1.1, 2)\n",
    "\n",
    "# Check if (1, 1) lies in both rectangles\n",
    "if rectangle1 and rectangle2:\n",
    "    print(\"The point (1, 1) lies in both rectangles.\")\n",
    "else:\n",
    "    print(\"The point (1, 1) does not lie in both rectangles.\")\n",
    "\n"
   ]
  },
  {
   "cell_type": "code",
   "execution_count": 9,
   "id": "57179497-2361-4a05-b40a-2840d1772187",
   "metadata": {},
   "outputs": [
    {
     "ename": "IndentationError",
     "evalue": "unexpected indent (865406815.py, line 3)",
     "output_type": "error",
     "traceback": [
      "\u001b[1;36m  Cell \u001b[1;32mIn[9], line 3\u001b[1;36m\u001b[0m\n\u001b[1;33m    word = word.lower()\u001b[0m\n\u001b[1;37m    ^\u001b[0m\n\u001b[1;31mIndentationError\u001b[0m\u001b[1;31m:\u001b[0m unexpected indent\n"
     ]
    }
   ],
   "source": [
    "#Q6\n",
    "def pig(word):\n",
    "   \n",
    "    word = word.lower()\n",
    "\n",
    " \n",
    "    vowels = \"aeiou\"\n",
    "    if word[0] in vowels:\n",
    "        \n",
    "        return word + \"way\"\n",
    "    else:\n",
    "        \n",
    "        return word[1:] + word[0] + \"ay\"\n",
    "\n",
    "# Test the pig function\n",
    "word1 = \"happy\"\n",
    "word2 = \"pencil\"\n",
    "word3 = \"enter\"\n",
    "word4 = \"Other\"\n",
    "\n",
    "print(pig(word1))  # Output: \"appyhay\"\n",
    "print(pig(word2))  # Output: \"encilpay\"\n",
    "print(pig(word3))  # Output: \"enterway\"\n",
    "print(pig(word4))  # Output: \"otherway\"\n"
   ]
  },
  {
   "cell_type": "code",
   "execution_count": 10,
   "id": "8c0207bb-8496-4b32-8175-5006bc162811",
   "metadata": {},
   "outputs": [
    {
     "name": "stdout",
     "output_type": "stream",
     "text": [
      "There are 15 patients of blood type A.\n",
      "There is one patient of blood type B.\n",
      "There are 13 patients of blood type AB.\n",
      "There are 15 patients of blood type O.\n",
      "There are 0 patients of blood type OO.\n"
     ]
    }
   ],
   "source": [
    "#Q7\n",
    "def bldcount(filename):\n",
    "    # Initialize a dictionary to store the count of each blood type\n",
    "    blood_type_count = {'A': 0, 'B': 0, 'AB': 0, 'O': 0, 'OO': 0}\n",
    "\n",
    "    try:\n",
    "        # Open the file for reading using the specified file location\n",
    "        with open(filename, 'r') as file:\n",
    "            # Read the blood types as a space-separated string and split into a list\n",
    "            blood_types = file.read().strip().split()\n",
    "\n",
    "            # Count the occurrences of each blood type and update the dictionary\n",
    "            for blood_type in blood_types:\n",
    "                if blood_type in blood_type_count:\n",
    "                    blood_type_count[blood_type] += 1\n",
    "\n",
    "        # Print the counts for each blood type\n",
    "        for blood_type, count in blood_type_count.items():\n",
    "            if count == 1:\n",
    "                print(f\"There is one patient of blood type {blood_type}.\")\n",
    "            else:\n",
    "                print(f\"There are {count} patients of blood type {blood_type}.\")\n",
    "\n",
    "    except FileNotFoundError:\n",
    "        print(f\"The file '{filename}' was not found at the specified location.\")\n",
    "    except Exception as e:\n",
    "        print(f\"An error occurred: {e}\")\n",
    "\n",
    "# Test the bldcount function with the provided filename location\n",
    "bldcount(r'C:\\Users\\thera\\Downloads\\bloodtype1.txt')\n"
   ]
  },
  {
   "cell_type": "code",
   "execution_count": 11,
   "id": "3d646fdb-a3af-4132-a858-df5742c68e27",
   "metadata": {},
   "outputs": [
    {
     "name": "stdout",
     "output_type": "stream",
     "text": [
      "122.96544\n",
      "An error occurred: Currency 'JPY' not found in currencies.txt\n",
      "None\n"
     ]
    }
   ],
   "source": [
    "#Q8\n",
    "def currencyconv(currency, amount):\n",
    "    try:\n",
    "        \n",
    "        with open(r'C:\\Users\\thera\\Downloads\\currencies.txt', 'r') as file:\n",
    "           \n",
    "            for line in file:\n",
    "                parts = line.split()  # Split each line into parts\n",
    "                if len(parts) == 3 and parts[0] == currency:\n",
    "                    # Currency symbol found, extract the conversion rate\n",
    "                    conversion_rate = float(parts[1])\n",
    "                    # Convert the amount to US dollars\n",
    "                    us_dollars = amount * conversion_rate\n",
    "                    return us_dollars\n",
    "\n",
    "       \n",
    "        raise ValueError(f\"Currency '{currency}' not found in currencies.txt\")\n",
    "\n",
    "    except FileNotFoundError:\n",
    "        print(\"The currencies.txt file was not found.\")\n",
    "    except Exception as e:\n",
    "        print(f\"An error occurred: {e}\")\n",
    "\n",
    "# Test the currencyconv function\n",
    "usd_amount1 = currencyconv('EUR', 100)\n",
    "print(usd_amount1)  \n",
    "\n",
    "usd_amount2 = currencyconv('JPY', 100)\n",
    "print(usd_amount2)  \n"
   ]
  },
  {
   "cell_type": "code",
   "execution_count": 8,
   "id": "bfdb5696-cf35-4cd5-a06c-b907dba930fa",
   "metadata": {},
   "outputs": [
    {
     "ename": "NameError",
     "evalue": "name 'letters' is not defined",
     "output_type": "error",
     "traceback": [
      "\u001b[1;31m---------------------------------------------------------------------------\u001b[0m",
      "\u001b[1;31mNameError\u001b[0m                                 Traceback (most recent call last)",
      "Cell \u001b[1;32mIn[8], line 25\u001b[0m\n\u001b[0;32m     22\u001b[0m result \u001b[38;5;241m=\u001b[39m frequencies(text)\n\u001b[0;32m     24\u001b[0m \u001b[38;5;66;03m# Print the letter frequencies\u001b[39;00m\n\u001b[1;32m---> 25\u001b[0m \u001b[38;5;28;01mfor\u001b[39;00m letter, frequency \u001b[38;5;129;01min\u001b[39;00m \u001b[38;5;28mzip\u001b[39m(\u001b[43mletters\u001b[49m, result):\n\u001b[0;32m     26\u001b[0m     \u001b[38;5;28mprint\u001b[39m(\u001b[38;5;124mf\u001b[39m\u001b[38;5;124m\"\u001b[39m\u001b[38;5;132;01m{\u001b[39;00mletter\u001b[38;5;132;01m}\u001b[39;00m\u001b[38;5;124m: \u001b[39m\u001b[38;5;132;01m{\u001b[39;00mfrequency\u001b[38;5;132;01m}\u001b[39;00m\u001b[38;5;124m\"\u001b[39m)\n",
      "\u001b[1;31mNameError\u001b[0m: name 'letters' is not defined"
     ]
    }
   ],
   "source": [
    "def frequencies(text):\n",
    "    # Define the letters string\n",
    "    letters = 'abcdefghijklmnopqrstuvwxyz'\n",
    "\n",
    "    # Initialize a list to store the frequency count of each character\n",
    "    letter_frequencies = [0] * len(letters)\n",
    "\n",
    "    # Convert the input text to lowercase to ensure case-insensitive counting\n",
    "    text = text.lower()\n",
    "\n",
    "    # Iterate through the characters in the input text\n",
    "    for char in text:\n",
    "        if char in letters:\n",
    "            # Increment the corresponding frequency count in the list\n",
    "            index = letters.index(char)\n",
    "            letter_frequencies[index] += 1\n",
    "\n",
    "    return letter_frequencies\n",
    "\n",
    "# Test the frequencies function with an example text\n",
    "text = \"The quick red fox got bored and went home.\"\n",
    "result = frequencies(text)\n",
    "\n",
    "# Print the letter frequencies\n",
    "for letter, frequency in zip(letters, result):\n",
    "    print(f\"{letter}: {frequency}\")\n"
   ]
  },
  {
   "cell_type": "code",
   "execution_count": null,
   "id": "00c3114a-69e9-489d-8945-67b4b16ad497",
   "metadata": {},
   "outputs": [],
   "source": []
  }
 ],
 "metadata": {
  "kernelspec": {
   "display_name": "Python 3 (ipykernel)",
   "language": "python",
   "name": "python3"
  },
  "language_info": {
   "codemirror_mode": {
    "name": "ipython",
    "version": 3
   },
   "file_extension": ".py",
   "mimetype": "text/x-python",
   "name": "python",
   "nbconvert_exporter": "python",
   "pygments_lexer": "ipython3",
   "version": "3.11.5"
  }
 },
 "nbformat": 4,
 "nbformat_minor": 5
}

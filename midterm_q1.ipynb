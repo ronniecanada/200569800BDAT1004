{
 "cells": [
  {
   "cell_type": "code",
   "execution_count": 1,
   "id": "e82e3e47-ad4a-42fe-ac27-2f8b15a44ef1",
   "metadata": {},
   "outputs": [
    {
     "data": {
      "text/plain": [
       "(5.0, 1.3333333333333333)"
      ]
     },
     "execution_count": 1,
     "metadata": {},
     "output_type": "execute_result"
    }
   ],
   "source": [
    "class Point:\n",
    "    def __init__(self, x_coord=0, y_coord=0):\n",
    "        self.x_coord = x_coord\n",
    "        self.y_coord = y_coord\n",
    "\n",
    "class LineSegment:\n",
    "    def __init__(self, start_point, end_point):\n",
    "        self.start_point = start_point\n",
    "        self.end_point = end_point\n",
    "\n",
    "    def calculate_length(self):\n",
    "        dx = self.end_point.x_coord - self.start_point.x_coord\n",
    "        dy = self.end_point.y_coord - self.start_point.y_coord\n",
    "        return (dx ** 2 + dy ** 2) ** 0.5\n",
    "\n",
    "    def calculate_slope(self):\n",
    "        if self.end_point.x_coord - self.start_point.x_coord == 0:\n",
    "            return None  \n",
    "        return (self.end_point.y_coord - self.start_point.y_coord) / (self.end_point.x_coord - self.start_point.x_coord)\n",
    "\n",
    "\n",
    "start = Point(3, 4)\n",
    "end = Point()\n",
    "line_segment = LineSegment(start, end)\n",
    "segment_length = line_segment.calculate_length()\n",
    "segment_slope = line_segment.calculate_slope()\n",
    "segment_length, segment_slope\n"
   ]
  },
  {
   "cell_type": "code",
   "execution_count": null,
   "id": "4d4f90cc-07db-4fa3-80ff-d412704aaa7c",
   "metadata": {},
   "outputs": [],
   "source": []
  }
 ],
 "metadata": {
  "kernelspec": {
   "display_name": "Python 3 (ipykernel)",
   "language": "python",
   "name": "python3"
  },
  "language_info": {
   "codemirror_mode": {
    "name": "ipython",
    "version": 3
   },
   "file_extension": ".py",
   "mimetype": "text/x-python",
   "name": "python",
   "nbconvert_exporter": "python",
   "pygments_lexer": "ipython3",
   "version": "3.11.5"
  }
 },
 "nbformat": 4,
 "nbformat_minor": 5
}

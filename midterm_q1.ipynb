{
 "cells": [
  {
   "cell_type": "code",
   "execution_count": 6,
   "id": "e82e3e47-ad4a-42fe-ac27-2f8b15a44ef1",
   "metadata": {},
   "outputs": [
    {
     "data": {
      "text/plain": [
       "(8.246211251235321, 4.0)"
      ]
     },
     "execution_count": 6,
     "metadata": {},
     "output_type": "execute_result"
    }
   ],
   "source": [
    "class Point:\n",
    "    def __init__(self, x=0, y=0):\n",
    "        self.x = x\n",
    "        self.y = y\n",
    "\n",
    "class Line_Segment:\n",
    "    def __init__(self, p1, p2):\n",
    "        self.p1 = p1\n",
    "        self.p2 = p2\n",
    "\n",
    "    def cal_len(self):\n",
    "        dx = self.p2.x - self.p1.x\n",
    "        dy = self.p2.y - self.p1.y\n",
    "        return (dx ** 2 + dy ** 2) ** 0.5\n",
    "\n",
    "    def cal_slope(self):\n",
    "        if self.p2.x - self.p1.x == 0:\n",
    "            return None  \n",
    "        return (self.p2.y - self.p1.y) / (self.p2.x - self.p1.x)\n",
    "\n",
    "\n",
    "start = Point(3, 4)\n",
    "end = Point(5,12)\n",
    "line_segment = Line_Segment(start, end)\n",
    "segment_length = line_segment.cal_len()\n",
    "segment_slope = line_segment.cal_slope()\n",
    "segment_length, segment_slope\n"
   ]
  },
  {
   "cell_type": "code",
   "execution_count": null,
   "id": "4d4f90cc-07db-4fa3-80ff-d412704aaa7c",
   "metadata": {},
   "outputs": [],
   "source": []
  }
 ],
 "metadata": {
  "kernelspec": {
   "display_name": "Python 3 (ipykernel)",
   "language": "python",
   "name": "python3"
  },
  "language_info": {
   "codemirror_mode": {
    "name": "ipython",
    "version": 3
   },
   "file_extension": ".py",
   "mimetype": "text/x-python",
   "name": "python",
   "nbconvert_exporter": "python",
   "pygments_lexer": "ipython3",
   "version": "3.11.5"
  }
 },
 "nbformat": 4,
 "nbformat_minor": 5
}

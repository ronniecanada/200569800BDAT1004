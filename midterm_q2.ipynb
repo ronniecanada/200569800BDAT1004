{
 "cells": [
  {
   "cell_type": "code",
   "execution_count": null,
   "id": "2391152f-dcbd-48a7-a953-12bfbeadc355",
   "metadata": {},
   "outputs": [],
   "source": [
    "import sqlite3\n",
    "\n",
    "\n",
    "conn = sqlite3.connect('weather.db')\n",
    "cursor = conn.cursor()\n",
    "\n",
    "\n",
    "cursor.execute('''\n",
    "    CREATE TABLE IF NOT EXISTS Midterm_Weather (\n",
    "        id INTEGER PRIMARY KEY,\n",
    "        recordDate DATE,\n",
    "        temperature INTEGER\n",
    "    )\n",
    "''')\n",
    "\n",
    "w_table = [\n",
    "    (1, '2015-01-01', 10),\n",
    "    (2, '2015-01-02', 25),\n",
    "    (3, '2015-01-03', 20),\n",
    "    (4, '2015-01-04', 30)\n",
    "]\n",
    "\n",
    "cursor.executemany('INSERT INTO Midterm_Weather(id, recordDate, temperature) VALUES (?, ?, ?)', w_table)\n",
    "\n",
    "\n",
    "conn.commit()\n",
    "conn.close()\n"
   ]
  },
  {
   "cell_type": "code",
   "execution_count": 17,
   "id": "daa134c4-546f-422d-89c0-176e181e13dd",
   "metadata": {},
   "outputs": [
    {
     "name": "stdout",
     "output_type": "stream",
     "text": [
      "2\n",
      "4\n"
     ]
    }
   ],
   "source": [
    "import sqlite3\n",
    "\n",
    "\n",
    "conn = sqlite3.connect('weather.db')\n",
    "\n",
    "\n",
    "cursor = conn.cursor()\n",
    "\n",
    "\n",
    "sql_query = \"\"\"\n",
    "SELECT w1.id\n",
    "FROM Midterm_Weather w1\n",
    "JOIN Midterm_Weather w2\n",
    "ON w1.recordDate = DATE(w2.recordDate, '+1 day')\n",
    "WHERE w1.temperature > w2.temperature\n",
    "\"\"\"\n",
    "cursor.execute(sql_query)\n",
    "\n",
    "\n",
    "results = cursor.fetchall()\n",
    "\n",
    "\n",
    "conn.close()\n",
    "\n",
    "for row in results:\n",
    "    print(row[0])\n"
   ]
  },
  {
   "cell_type": "code",
   "execution_count": null,
   "id": "85e5fb06-4d25-4e1a-aa69-e5fd6b415a3f",
   "metadata": {},
   "outputs": [],
   "source": []
  }
 ],
 "metadata": {
  "kernelspec": {
   "display_name": "Python 3 (ipykernel)",
   "language": "python",
   "name": "python3"
  },
  "language_info": {
   "codemirror_mode": {
    "name": "ipython",
    "version": 3
   },
   "file_extension": ".py",
   "mimetype": "text/x-python",
   "name": "python",
   "nbconvert_exporter": "python",
   "pygments_lexer": "ipython3",
   "version": "3.11.5"
  }
 },
 "nbformat": 4,
 "nbformat_minor": 5
}
